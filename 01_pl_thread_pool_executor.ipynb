{
 "cells": [
  {
   "cell_type": "markdown",
   "metadata": {},
   "source": [
    "# 1. ThreadPoolExecutor\n",
    "\n",
    "Pula wątków przeważnie jest używana w zadaniach zależnych od I/O (I/O bounded tasks).\n",
    "\n",
    "TODO: add more description\n"
   ]
  },
  {
   "cell_type": "markdown",
   "metadata": {},
   "source": [
    "# Przykład: scraper Wikipedii\n",
    "\n",
    "Scenariusz: dla danej listy haseł (`TERMS`) pobierz zawartość pierwszych paragrafów artykułów Wikipedii dla każdego hasła.\n",
    "\n",
    "Dane:\n",
    " - `WIKI_URL`: bazowy adres angielskiej Wikipedii. W każdym zadaniu hasło jest dołączane na koniec tego adresu (np. `'https://en.wikipedia.org/wiki/' + 'kite'` daje [adres do artykułu o latawcu](https://en.wikipedia.org/wiki/kite)).\n",
    " - `TERMS`: lista haseł do wyszukania.\n",
    " - `get_from_wiki`: funkcja, która odpytuje adres dla danego hasła, sprawdza kod odpowiedzi i zwraca krotkę kodu statusu i tekst pierwszego paragrafu danego artykułu Wikipedii.\n",
    " - `get_first_paragraph`: funkcja pomocnicza parsująca zawartość HTML i wyciągająca tekst pierwszego paragrafu.\n",
    " - `timeit`: funkcja dekorująca, mierząca czas wykonania dekorowanej funkcji."
   ]
  },
  {
   "cell_type": "code",
   "execution_count": null,
   "metadata": {},
   "outputs": [],
   "source": [
    "from lxml import html\n",
    "import time\n",
    "from typing import *\n",
    "\n",
    "import requests\n",
    "\n",
    "WIKI_URL = 'https://en.wikipedia.org/wiki/'\n",
    "TERMS = [\n",
    "    'family',\n",
    "    'measurement',\n",
    "    'leader',\n",
    "    'atmosphere',\n",
    "    'possibility',\n",
    "    'housing',\n",
    "    'payment',\n",
    "    'sympathy',\n",
    "    'meal',\n",
    "    'description',\n",
    "    'intention',\n",
    "    'community',\n",
    "    'preference',\n",
    "    'menu',\n",
    "    'volume',\n",
    "    'brewery',\n",
    "    'abcdefgh',  # no article\n",
    "    'assumption',\n",
    "    'patience',\n",
    "    'recipe',\n",
    "]\n",
    "\n",
    "\n",
    "def timeit(func):\n",
    "    \"\"\"Wraps the function for measuring its execution time.\"\"\"\n",
    "    \n",
    "    def wrapped(*args, **kwargs):\n",
    "        t_start = time.time()\n",
    "        result = func(*args, **kwargs)\n",
    "        print(f'Executed `{func.__name__}` in {(time.time() - t_start):.2f}s')\n",
    "        return result\n",
    "    \n",
    "    return wrapped\n",
    "\n",
    "\n",
    "def get_first_paragraph(html_text: str) -> str:\n",
    "    \"\"\"\n",
    "    Returns a text from first paragraph of given html content.\n",
    "    \"\"\"\n",
    "    tree = html.fromstring(html_text)\n",
    "    paragraph = tree.find('body//p')\n",
    "    if isinstance(paragraph, html.HtmlElement):\n",
    "        return paragraph.text_content().strip()\n",
    "    return ''\n",
    "    \n",
    "\n",
    "def get_from_wiki(term: str) -> Tuple[int, str]:\n",
    "    \"\"\"\n",
    "    Returns the status code and text of first paragraph\n",
    "    from wikipedia article in form of a tuple.\n",
    "    \"\"\"\n",
    "    res = requests.get(WIKI_URL + term)\n",
    "    status = res.status_code\n",
    "    if res.status_code != 200:\n",
    "        return status, ''\n",
    "    return status, get_first_paragraph(res.content)"
   ]
  },
  {
   "cell_type": "markdown",
   "metadata": {},
   "source": [
    "\n",
    "\n",
    "### Przykładowy wynik dla [artykułu o data scrapinu](https://en.wikipedia.org/wiki/Data_scraping), wywołując funkcję  `get_from_wiki`:\n"
   ]
  },
  {
   "cell_type": "code",
   "execution_count": null,
   "metadata": {},
   "outputs": [],
   "source": [
    "code, text = get_from_wiki('data_scraping')\n",
    "print(f'response code: {code}')\n",
    "print(f'text: {text}')"
   ]
  },
  {
   "cell_type": "markdown",
   "metadata": {},
   "source": [
    "\n",
    "\n",
    "## Typowe zadanie sekwencyjne, które wywołuje funkcję dla każdego hasła\n"
   ]
  },
  {
   "cell_type": "code",
   "execution_count": null,
   "metadata": {},
   "outputs": [],
   "source": [
    "@timeit\n",
    "def task_sequential(terms):\n",
    "    return [get_from_wiki(term) for term in terms]"
   ]
  },
  {
   "cell_type": "markdown",
   "metadata": {},
   "source": [
    "\n",
    "\n",
    "#### Test `task_sequential`:\n"
   ]
  },
  {
   "cell_type": "code",
   "execution_count": null,
   "metadata": {
    "scrolled": true
   },
   "outputs": [],
   "source": [
    "result_sequential = task_sequential(TERMS)\n",
    "\n",
    "for term, (code, text) in zip(TERMS, result_sequential):\n",
    "    print(f'{term}, response code: {code}')\n",
    "    print(text, '\\n')"
   ]
  },
  {
   "cell_type": "markdown",
   "metadata": {},
   "source": [
    "\n",
    "## Zrównoleglone zadanie: podejście 1.\n",
    "Zrównoleglone zadanie z użyciem klasy `ThreadPoolExecutor` i metody `submit()`. Zwraca listę wyników."
   ]
  },
  {
   "cell_type": "code",
   "execution_count": null,
   "metadata": {},
   "outputs": [],
   "source": [
    "from concurrent.futures import ThreadPoolExecutor\n",
    "\n",
    "\n",
    "@timeit\n",
    "def task_parallel(terms, n_workers=10):\n",
    "    with ThreadPoolExecutor(n_workers) as pool:\n",
    "        futures = [pool.submit(get_from_wiki, term) for term in terms]\n",
    "    return [future.result() for future in futures]"
   ]
  },
  {
   "cell_type": "markdown",
   "metadata": {},
   "source": [
    "#### Test `task_parallel`:\n"
   ]
  },
  {
   "cell_type": "code",
   "execution_count": null,
   "metadata": {},
   "outputs": [],
   "source": [
    "result_parallel = task_parallel(TERMS)\n",
    "result_sequential == result_parallel  # same result?\n"
   ]
  },
  {
   "cell_type": "markdown",
   "metadata": {},
   "source": [
    "## Zrównoleglone zadanie: podejście 2.\n",
    "Zrównoleglone zadanie z użyciem klasy `ThreadPoolExecutor` i metody `map()`. Zwraca listę wyników."
   ]
  },
  {
   "cell_type": "code",
   "execution_count": null,
   "metadata": {},
   "outputs": [],
   "source": [
    "@timeit\n",
    "def task_parallel_2(terms, n_workers=10):\n",
    "    with ThreadPoolExecutor(n_workers) as pool:\n",
    "        result = pool.map(get_from_wiki, terms)\n",
    "    return list(result)"
   ]
  },
  {
   "cell_type": "code",
   "execution_count": null,
   "metadata": {},
   "outputs": [],
   "source": [
    "longer_list = TERMS * 3\n",
    "_ = task_parallel_2(longer_list)\n",
    "_ = task_parallel_2(longer_list, n_workers=30)"
   ]
  },
  {
   "cell_type": "markdown",
   "metadata": {},
   "source": [
    "## Zrównoleglone zadanie: podejście 3.\n",
    "\n",
    "Zrównoleglone zadanie z użyciem klasy `ThreadPoolExecutor` i metody `map()`. Leniwe podejście."
   ]
  },
  {
   "cell_type": "code",
   "execution_count": null,
   "metadata": {},
   "outputs": [],
   "source": [
    "@timeit\n",
    "def task_parallel_3(terms, n_workers=10):\n",
    "    with ThreadPoolExecutor(n_workers) as pool:\n",
    "        yield from pool.map(get_from_wiki, terms)"
   ]
  },
  {
   "cell_type": "code",
   "execution_count": null,
   "metadata": {
    "scrolled": false
   },
   "outputs": [],
   "source": [
    "res = task_parallel_3(TERMS, n_workers=2)\n",
    "res\n",
    "time.sleep(1)\n",
    "for code, text in res:\n",
    "    print(code)"
   ]
  }
 ],
 "metadata": {
  "kernelspec": {
   "display_name": "Python 3",
   "language": "python",
   "name": "python3"
  },
  "language_info": {
   "codemirror_mode": {
    "name": "ipython",
    "version": 3
   },
   "file_extension": ".py",
   "mimetype": "text/x-python",
   "name": "python",
   "nbconvert_exporter": "python",
   "pygments_lexer": "ipython3",
   "version": "3.8.5"
  }
 },
 "nbformat": 4,
 "nbformat_minor": 4
}
