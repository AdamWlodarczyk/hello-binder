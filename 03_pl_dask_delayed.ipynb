{
 "cells": [
  {
   "cell_type": "markdown",
   "metadata": {},
   "source": [
    "# 3. Dask Delayed"
   ]
  },
  {
   "cell_type": "markdown",
   "metadata": {},
   "source": [
    "### Scenariusz: zrównoleglenie i leniwe wykonywanie zadań"
   ]
  },
  {
   "cell_type": "markdown",
   "metadata": {},
   "source": [
    "#### Standardowy kod:"
   ]
  },
  {
   "cell_type": "code",
   "execution_count": null,
   "metadata": {},
   "outputs": [],
   "source": [
    "import time\n",
    "\n",
    "\n",
    "def square(n):\n",
    "    time.sleep(1)\n",
    "    return n ** 2\n",
    "\n",
    "\n",
    "def increase(n):\n",
    "    time.sleep(1)\n",
    "    return n + 1\n",
    "\n",
    "\n",
    "def multiply(x, y):\n",
    "    time.sleep(1)\n",
    "    return x * y\n"
   ]
  },
  {
   "cell_type": "code",
   "execution_count": null,
   "metadata": {},
   "outputs": [],
   "source": [
    "%%time\n",
    "a = square(2)\n",
    "b = increase(3)\n",
    "c = multiply(a, b)\n",
    "c"
   ]
  },
  {
   "cell_type": "markdown",
   "metadata": {},
   "source": [
    "### Użycie `dask.delayed`"
   ]
  },
  {
   "cell_type": "code",
   "execution_count": null,
   "metadata": {},
   "outputs": [],
   "source": [
    "import time\n",
    "from dask import delayed\n",
    "\n",
    "\n",
    "@delayed\n",
    "def square(n):\n",
    "    time.sleep(1)\n",
    "    return n ** 2\n",
    "\n",
    "\n",
    "@delayed\n",
    "def increase(n):\n",
    "    time.sleep(1)\n",
    "    return n + 1\n",
    "\n",
    "\n",
    "@delayed\n",
    "def multiply(x, y):\n",
    "    time.sleep(1)\n",
    "    return x * y"
   ]
  },
  {
   "cell_type": "code",
   "execution_count": null,
   "metadata": {},
   "outputs": [],
   "source": [
    "%%time\n",
    "a = square(2)\n",
    "b = increase(3)\n",
    "c = multiply(a, b)\n",
    "c"
   ]
  },
  {
   "cell_type": "code",
   "execution_count": null,
   "metadata": {},
   "outputs": [],
   "source": [
    "c.visualize()"
   ]
  },
  {
   "cell_type": "code",
   "execution_count": null,
   "metadata": {},
   "outputs": [],
   "source": [
    "%%time \n",
    "c.compute()"
   ]
  }
 ],
 "metadata": {
  "kernelspec": {
   "display_name": "Python 3",
   "language": "python",
   "name": "python3"
  },
  "language_info": {
   "codemirror_mode": {
    "name": "ipython",
    "version": 3
   },
   "file_extension": ".py",
   "mimetype": "text/x-python",
   "name": "python",
   "nbconvert_exporter": "python",
   "pygments_lexer": "ipython3",
   "version": "3.8.5"
  }
 },
 "nbformat": 4,
 "nbformat_minor": 4
}
